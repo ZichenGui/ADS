{
 "cells": [
  {
   "cell_type": "markdown",
   "metadata": {},
   "source": [
    "### MIMIC ICU stays\n",
    "Codes used to investigate ICU visits and length-of-stay\n",
    "Author: Avon Huxor\n",
    "Date: May 2017"
   ]
  },
  {
   "cell_type": "code",
   "execution_count": 1,
   "metadata": {
    "collapsed": true
   },
   "outputs": [],
   "source": [
    "#import required packages\n",
    "import pandas as pd\n",
    "import matplotlib.pyplot as plt\n",
    "import numpy as np\n",
    "from sklearn import cluster\n",
    "from sklearn import preprocessing\n",
    "from matplotlib.colors import LogNorm\n",
    "%matplotlib inline"
   ]
  },
  {
   "cell_type": "code",
   "execution_count": 2,
   "metadata": {
    "collapsed": false
   },
   "outputs": [],
   "source": [
    "# load datafiles required\n",
    "patients_df = pd.read_csv('PATIENTS.csv',parse_dates=['DOB','DOD','DOD_HOSP','DOD_SSN'])\n",
    "icustays_df = pd.read_csv('ICUSTAYS.csv',parse_dates=['INTIME','OUTTIME'])\n"
   ]
  },
  {
   "cell_type": "code",
   "execution_count": 3,
   "metadata": {
    "collapsed": false
   },
   "outputs": [
    {
     "name": "stdout",
     "output_type": "stream",
     "text": [
      "patients_df =  46520\n",
      "icustays_df =  61532\n"
     ]
    }
   ],
   "source": [
    "# view number of patients and number of ICU stays involved\n",
    "print('patients_df = ',len(patients_df))\n",
    "print('icustays_df = ',len(icustays_df))\n"
   ]
  },
  {
   "cell_type": "code",
   "execution_count": 4,
   "metadata": {
    "collapsed": false
   },
   "outputs": [
    {
     "data": {
      "text/html": [
       "<div>\n",
       "<table border=\"1\" class=\"dataframe\">\n",
       "  <thead>\n",
       "    <tr style=\"text-align: right;\">\n",
       "      <th></th>\n",
       "      <th>ROW_ID</th>\n",
       "      <th>SUBJECT_ID</th>\n",
       "      <th>GENDER</th>\n",
       "      <th>DOB</th>\n",
       "      <th>DOD</th>\n",
       "      <th>DOD_HOSP</th>\n",
       "      <th>DOD_SSN</th>\n",
       "      <th>EXPIRE_FLAG</th>\n",
       "    </tr>\n",
       "  </thead>\n",
       "  <tbody>\n",
       "    <tr>\n",
       "      <th>15819</th>\n",
       "      <td>17943</td>\n",
       "      <td>18992</td>\n",
       "      <td>M</td>\n",
       "      <td>2084-02-29</td>\n",
       "      <td>2127-10-28</td>\n",
       "      <td>NaT</td>\n",
       "      <td>2127-10-28</td>\n",
       "      <td>1</td>\n",
       "    </tr>\n",
       "  </tbody>\n",
       "</table>\n",
       "</div>"
      ],
      "text/plain": [
       "       ROW_ID  SUBJECT_ID GENDER        DOB        DOD DOD_HOSP    DOD_SSN  \\\n",
       "15819   17943       18992      M 2084-02-29 2127-10-28      NaT 2127-10-28   \n",
       "\n",
       "       EXPIRE_FLAG  \n",
       "15819            1  "
      ]
     },
     "execution_count": 4,
     "metadata": {},
     "output_type": "execute_result"
    }
   ],
   "source": [
    "# view example patient record\n",
    "patients_df[patients_df.SUBJECT_ID==18992]"
   ]
  },
  {
   "cell_type": "markdown",
   "metadata": {},
   "source": [
    "#### remove neotal and cardiac surgical recovery units, as these unlike 4 main ICU types"
   ]
  },
  {
   "cell_type": "code",
   "execution_count": 5,
   "metadata": {
    "collapsed": false
   },
   "outputs": [
    {
     "data": {
      "text/plain": [
       "44040"
      ]
     },
     "execution_count": 5,
     "metadata": {},
     "output_type": "execute_result"
    }
   ],
   "source": [
    "# remove neonatal and cardiac surgery recovery from the icustays dataframe\n",
    "icustays_df_four = icustays_df[(icustays_df.LAST_CAREUNIT!='NICU') & (icustays_df.LAST_CAREUNIT!='CSRU')]\n",
    "len(icustays_df_four)"
   ]
  },
  {
   "cell_type": "code",
   "execution_count": 6,
   "metadata": {
    "collapsed": false
   },
   "outputs": [
    {
     "data": {
      "text/html": [
       "<div>\n",
       "<table border=\"1\" class=\"dataframe\">\n",
       "  <thead>\n",
       "    <tr style=\"text-align: right;\">\n",
       "      <th></th>\n",
       "      <th>ROW_ID</th>\n",
       "      <th>SUBJECT_ID</th>\n",
       "      <th>HADM_ID</th>\n",
       "      <th>ICUSTAY_ID</th>\n",
       "      <th>DBSOURCE</th>\n",
       "      <th>FIRST_CAREUNIT</th>\n",
       "      <th>LAST_CAREUNIT</th>\n",
       "      <th>FIRST_WARDID</th>\n",
       "      <th>LAST_WARDID</th>\n",
       "      <th>INTIME</th>\n",
       "      <th>OUTTIME</th>\n",
       "      <th>LOS</th>\n",
       "    </tr>\n",
       "  </thead>\n",
       "  <tbody>\n",
       "    <tr>\n",
       "      <th>28979</th>\n",
       "      <td>24062</td>\n",
       "      <td>18992</td>\n",
       "      <td>123291</td>\n",
       "      <td>224638</td>\n",
       "      <td>carevue</td>\n",
       "      <td>CCU</td>\n",
       "      <td>SICU</td>\n",
       "      <td>7</td>\n",
       "      <td>33</td>\n",
       "      <td>2124-04-21 06:12:15</td>\n",
       "      <td>2124-08-03 12:09:45</td>\n",
       "      <td>104.2483</td>\n",
       "    </tr>\n",
       "  </tbody>\n",
       "</table>\n",
       "</div>"
      ],
      "text/plain": [
       "       ROW_ID  SUBJECT_ID  HADM_ID  ICUSTAY_ID DBSOURCE FIRST_CAREUNIT  \\\n",
       "28979   24062       18992   123291      224638  carevue            CCU   \n",
       "\n",
       "      LAST_CAREUNIT  FIRST_WARDID  LAST_WARDID              INTIME  \\\n",
       "28979          SICU             7           33 2124-04-21 06:12:15   \n",
       "\n",
       "                  OUTTIME       LOS  \n",
       "28979 2124-08-03 12:09:45  104.2483  "
      ]
     },
     "execution_count": 6,
     "metadata": {},
     "output_type": "execute_result"
    }
   ],
   "source": [
    "# view example icu-stay record for our token patient\n",
    "icustays_df_four[icustays_df_four.SUBJECT_ID==18992]"
   ]
  },
  {
   "cell_type": "code",
   "execution_count": 7,
   "metadata": {
    "collapsed": false
   },
   "outputs": [
    {
     "data": {
      "text/html": [
       "<div>\n",
       "<table border=\"1\" class=\"dataframe\">\n",
       "  <thead>\n",
       "    <tr style=\"text-align: right;\">\n",
       "      <th></th>\n",
       "      <th>SUBJECT_ID</th>\n",
       "      <th>ICUSTAY_ID</th>\n",
       "      <th>0</th>\n",
       "    </tr>\n",
       "  </thead>\n",
       "  <tbody>\n",
       "    <tr>\n",
       "      <th>0</th>\n",
       "      <td>13033</td>\n",
       "      <td>41</td>\n",
       "      <td>41</td>\n",
       "    </tr>\n",
       "    <tr>\n",
       "      <th>1</th>\n",
       "      <td>109</td>\n",
       "      <td>38</td>\n",
       "      <td>38</td>\n",
       "    </tr>\n",
       "    <tr>\n",
       "      <th>2</th>\n",
       "      <td>11861</td>\n",
       "      <td>35</td>\n",
       "      <td>35</td>\n",
       "    </tr>\n",
       "    <tr>\n",
       "      <th>3</th>\n",
       "      <td>5060</td>\n",
       "      <td>30</td>\n",
       "      <td>30</td>\n",
       "    </tr>\n",
       "    <tr>\n",
       "      <th>4</th>\n",
       "      <td>20643</td>\n",
       "      <td>25</td>\n",
       "      <td>25</td>\n",
       "    </tr>\n",
       "  </tbody>\n",
       "</table>\n",
       "</div>"
      ],
      "text/plain": [
       "   SUBJECT_ID  ICUSTAY_ID   0\n",
       "0       13033          41  41\n",
       "1         109          38  38\n",
       "2       11861          35  35\n",
       "3        5060          30  30\n",
       "4       20643          25  25"
      ]
     },
     "execution_count": 7,
     "metadata": {},
     "output_type": "execute_result"
    }
   ],
   "source": [
    "# group by subject_d (patient) and then by icustays\n",
    "# e.g. in table below \n",
    "subjects_icustays_df = icustays_df_four.groupby(['SUBJECT_ID','ICUSTAY_ID']).size().reset_index().groupby('SUBJECT_ID').count()\n",
    "subjects_icustays_df_sorted = subjects_icustays_df.sort_values(by='ICUSTAY_ID',ascending=False)\n",
    "subject_icustays_reindexed_df = subjects_icustays_df_sorted.reset_index()\n",
    "subject_icustays_reindexed_df.head()\n"
   ]
  },
  {
   "cell_type": "code",
   "execution_count": 8,
   "metadata": {
    "collapsed": false
   },
   "outputs": [
    {
     "name": "stdout",
     "output_type": "stream",
     "text": [
      "number of icu stays of 1 visits =  24751\n",
      "number of icu stays of 2 visits =  4445\n",
      "number of icu stays of 3 visits =  1343\n",
      "number of icu stays of 4 visits =  564\n",
      "number of icu stays of 5 visits =  246\n",
      "number of icu stays of 6 visits =  132\n",
      "number of icu stays of 7 visits =  68\n",
      "number of icu stays of 8 visits =  43\n",
      "number of icu stays of 9 visits =  25\n",
      "number of icu stays of 10 visits =  17\n",
      "number of icu stays of 11 visits =  10\n",
      "number of icu stays of 12 visits =  13\n",
      "number of icu stays of 13 visits =  7\n",
      "number of icu stays of 14 visits =  3\n",
      "number of icu stays of 15 visits =  5\n",
      "number of icu stays of 16 visits =  2\n",
      "number of icu stays of 17 visits =  2\n",
      "number of icu stays of 18 visits =  2\n",
      "number of icu stays of 19 visits =  0\n"
     ]
    }
   ],
   "source": [
    "# get overview of numbers of visits, and number of patients involved in these\n",
    "for n in range(1,20):\n",
    "    disp_string = 'number of icu stays of '+ str(n) + ' visits = '\n",
    "    print(disp_string, len(subject_icustays_reindexed_df[subject_icustays_reindexed_df.ICUSTAY_ID==n]))\n"
   ]
  },
  {
   "cell_type": "code",
   "execution_count": 9,
   "metadata": {
    "collapsed": false
   },
   "outputs": [
    {
     "data": {
      "text/plain": [
       "count    25956.000000\n",
       "mean         4.001919\n",
       "std          5.797559\n",
       "min          0.000100\n",
       "25%          1.158500\n",
       "50%          2.045150\n",
       "75%          4.054600\n",
       "max        104.248300\n",
       "Name: LOS, dtype: float64"
      ]
     },
     "execution_count": 9,
     "metadata": {},
     "output_type": "execute_result"
    }
   ],
   "source": [
    "# lets get patients who have only one visit, to see if any stand out \n",
    "patients_with_only_one_visit = subject_icustays_reindexed_df[subject_icustays_reindexed_df.ICUSTAY_ID==1]\n",
    "patients_with_only_one_visit\n",
    "# merge with icustays db to get LOS\n",
    "patients_one_visit_los_df = patients_with_only_one_visit.merge(icustays_df, left_on='SUBJECT_ID',right_on='SUBJECT_ID', how='inner')\n",
    "patients_one_visit_los_df.LOS.describe()"
   ]
  },
  {
   "cell_type": "code",
   "execution_count": 10,
   "metadata": {
    "collapsed": false
   },
   "outputs": [
    {
     "data": {
      "text/html": [
       "<div>\n",
       "<table border=\"1\" class=\"dataframe\">\n",
       "  <thead>\n",
       "    <tr style=\"text-align: right;\">\n",
       "      <th></th>\n",
       "      <th>SUBJECT_ID</th>\n",
       "      <th>ICUSTAY_ID_x</th>\n",
       "      <th>0</th>\n",
       "      <th>ROW_ID</th>\n",
       "      <th>HADM_ID</th>\n",
       "      <th>ICUSTAY_ID_y</th>\n",
       "      <th>DBSOURCE</th>\n",
       "      <th>FIRST_CAREUNIT</th>\n",
       "      <th>LAST_CAREUNIT</th>\n",
       "      <th>FIRST_WARDID</th>\n",
       "      <th>LAST_WARDID</th>\n",
       "      <th>INTIME</th>\n",
       "      <th>OUTTIME</th>\n",
       "      <th>LOS</th>\n",
       "    </tr>\n",
       "  </thead>\n",
       "  <tbody>\n",
       "    <tr>\n",
       "      <th>22513</th>\n",
       "      <td>18992</td>\n",
       "      <td>1</td>\n",
       "      <td>1</td>\n",
       "      <td>24062</td>\n",
       "      <td>123291</td>\n",
       "      <td>224638</td>\n",
       "      <td>carevue</td>\n",
       "      <td>CCU</td>\n",
       "      <td>SICU</td>\n",
       "      <td>7</td>\n",
       "      <td>33</td>\n",
       "      <td>2124-04-21 06:12:15</td>\n",
       "      <td>2124-08-03 12:09:45</td>\n",
       "      <td>104.2483</td>\n",
       "    </tr>\n",
       "  </tbody>\n",
       "</table>\n",
       "</div>"
      ],
      "text/plain": [
       "       SUBJECT_ID  ICUSTAY_ID_x  0  ROW_ID  HADM_ID  ICUSTAY_ID_y DBSOURCE  \\\n",
       "22513       18992             1  1   24062   123291        224638  carevue   \n",
       "\n",
       "      FIRST_CAREUNIT LAST_CAREUNIT  FIRST_WARDID  LAST_WARDID  \\\n",
       "22513            CCU          SICU             7           33   \n",
       "\n",
       "                   INTIME             OUTTIME       LOS  \n",
       "22513 2124-04-21 06:12:15 2124-08-03 12:09:45  104.2483  "
      ]
     },
     "execution_count": 10,
     "metadata": {},
     "output_type": "execute_result"
    }
   ],
   "source": [
    "# we seem to have one patient 18992, who seems to have been in ICU for over 104 days in just one visit!\n",
    "# this patient is the object a specific study: see patient_18992.ipynb\n",
    "patients_one_visit_los_df[patients_one_visit_los_df.LOS >100]"
   ]
  },
  {
   "cell_type": "code",
   "execution_count": 11,
   "metadata": {
    "collapsed": false
   },
   "outputs": [
    {
     "data": {
      "text/plain": [
       "<matplotlib.text.Text at 0x11b80c208>"
      ]
     },
     "execution_count": 11,
     "metadata": {},
     "output_type": "execute_result"
    },
    {
     "data": {
      "image/png": "[encoded data removed]",
      "text/plain": [
       "<matplotlib.figure.Figure at 0x11b7e53c8>"
      ]
     },
     "metadata": {},
     "output_type": "display_data"
    }
   ],
   "source": [
    "# e.g. subject 109 has had 38 stays\n",
    "patient_109_stays = icustays_df_four[icustays_df_four.SUBJECT_ID==109]\n",
    "# looking at these stays\n",
    "# this patient seems to have been almost all ICUs in there time: MICU,SICU,TSICU, and CCU\n",
    "# plot distribution of stays for this patient\n",
    "plt.scatter(patient_109_stays.LAST_WARDID, patient_109_stays.LOS,c=patient_109_stays.FIRST_WARDID)\n",
    "plt.xlabel('Last Ward ID')\n",
    "plt.ylabel('length of stay (days)')"
   ]
  },
  {
   "cell_type": "code",
   "execution_count": 12,
   "metadata": {
    "collapsed": false
   },
   "outputs": [],
   "source": [
    "# loop through visit numbers and obtain numbers required for plots\n",
    "mortality=[]\n",
    "num_visits=[]\n",
    "sample_size=[]\n",
    "for j in range(0,15):\n",
    "    temp = subject_icustays_reindexed_df[subject_icustays_reindexed_df.ICUSTAY_ID==j]\n",
    "    if len(temp) !=0:\n",
    "        multiples = temp.merge(patients_df, left_on='SUBJECT_ID',right_on='SUBJECT_ID', how='inner')\n",
    "        multiples_died = multiples[pd.notnull(multiples.DOD_HOSP)]\n",
    "        multiples_survived = multiples[pd.isnull(multiples.DOD_HOSP)]\n",
    "        mortality_rate = len(multiples_died)/(len(multiples_survived)+len(multiples_died))\n",
    "        mortality.append(mortality_rate)\n",
    "        num_visits.append(j)\n",
    "        sample_size.append(len(temp))\n"
   ]
  },
  {
   "cell_type": "code",
   "execution_count": 13,
   "metadata": {
    "collapsed": false
   },
   "outputs": [
    {
     "data": {
      "image/png": "[encoded data removed]",
      "text/plain": [
       "<matplotlib.figure.Figure at 0x11b7e56d8>"
      ]
     },
     "metadata": {},
     "output_type": "display_data"
    }
   ],
   "source": [
    "#plot \n",
    "mortality_ar = np.array(mortality)\n",
    "error_estimate = np.sqrt(mortality_ar*(1-mortality_ar)/sample_size)\n",
    "plt.errorbar(num_visits,mortality, yerr=error_estimate,ecolor='gray')\n",
    "plt.xlabel('number of ICU visits by any patient')\n",
    "plt.ylabel('mortality')\n",
    "plt.ylim(0,1.3)\n",
    "plt.title('Mortality rate for total recorded ICU visits by a patient')\n",
    "\n",
    "plt.savefig(\"mortality_allICU_visits_plots.pdf\", bbox_inches = 'tight',\n",
    "    pad_inches = 0.1)\n",
    "\n"
   ]
  },
  {
   "cell_type": "code",
   "execution_count": 14,
   "metadata": {
    "collapsed": false
   },
   "outputs": [],
   "source": [
    "# get total time subject spent in ICU for each patient_id\n",
    "subject_los_df = icustays_df_four.groupby(['SUBJECT_ID','LOS']).size().reset_index().groupby('SUBJECT_ID')['LOS'].sum()\n",
    "subject_los_df_sorted = subject_los_df.sort_values()\n",
    "subject_los_sorted_reindexed_df = subject_los_df_sorted.reset_index()\n",
    "subject_los_death_stats_merged = subject_los_sorted_reindexed_df.merge(patients_df, left_on='SUBJECT_ID',right_on='SUBJECT_ID', how='inner')\n",
    "subject_los_death_stats_merged_died = subject_los_death_stats_merged[pd.notnull(subject_los_death_stats_merged.DOD_HOSP)]\n",
    "subject_los_death_stats_merged_survived = subject_los_death_stats_merged[pd.isnull(subject_los_death_stats_merged.DOD_HOSP)]\n"
   ]
  },
  {
   "cell_type": "code",
   "execution_count": 15,
   "metadata": {
    "collapsed": false
   },
   "outputs": [
    {
     "data": {
      "text/html": [
       "<div>\n",
       "<table border=\"1\" class=\"dataframe\">\n",
       "  <thead>\n",
       "    <tr style=\"text-align: right;\">\n",
       "      <th></th>\n",
       "      <th>SUBJECT_ID</th>\n",
       "      <th>LOS</th>\n",
       "    </tr>\n",
       "  </thead>\n",
       "  <tbody>\n",
       "    <tr>\n",
       "      <th>31678</th>\n",
       "      <td>2187</td>\n",
       "      <td>123.0242</td>\n",
       "    </tr>\n",
       "    <tr>\n",
       "      <th>31679</th>\n",
       "      <td>22818</td>\n",
       "      <td>130.2998</td>\n",
       "    </tr>\n",
       "    <tr>\n",
       "      <th>31680</th>\n",
       "      <td>6702</td>\n",
       "      <td>132.7249</td>\n",
       "    </tr>\n",
       "    <tr>\n",
       "      <th>31681</th>\n",
       "      <td>78076</td>\n",
       "      <td>134.1599</td>\n",
       "    </tr>\n",
       "    <tr>\n",
       "      <th>31682</th>\n",
       "      <td>19911</td>\n",
       "      <td>152.7318</td>\n",
       "    </tr>\n",
       "    <tr>\n",
       "      <th>31683</th>\n",
       "      <td>6365</td>\n",
       "      <td>159.5050</td>\n",
       "    </tr>\n",
       "    <tr>\n",
       "      <th>31684</th>\n",
       "      <td>26277</td>\n",
       "      <td>177.5396</td>\n",
       "    </tr>\n",
       "    <tr>\n",
       "      <th>31685</th>\n",
       "      <td>25256</td>\n",
       "      <td>181.8735</td>\n",
       "    </tr>\n",
       "    <tr>\n",
       "      <th>31686</th>\n",
       "      <td>21280</td>\n",
       "      <td>189.7204</td>\n",
       "    </tr>\n",
       "    <tr>\n",
       "      <th>31687</th>\n",
       "      <td>12613</td>\n",
       "      <td>268.6245</td>\n",
       "    </tr>\n",
       "  </tbody>\n",
       "</table>\n",
       "</div>"
      ],
      "text/plain": [
       "       SUBJECT_ID       LOS\n",
       "31678        2187  123.0242\n",
       "31679       22818  130.2998\n",
       "31680        6702  132.7249\n",
       "31681       78076  134.1599\n",
       "31682       19911  152.7318\n",
       "31683        6365  159.5050\n",
       "31684       26277  177.5396\n",
       "31685       25256  181.8735\n",
       "31686       21280  189.7204\n",
       "31687       12613  268.6245"
      ]
     },
     "execution_count": 15,
     "metadata": {},
     "output_type": "execute_result"
    }
   ],
   "source": [
    "# view longest stays (days)\n",
    "subject_los_sorted_reindexed_df.tail(10)"
   ]
  },
  {
   "cell_type": "code",
   "execution_count": 16,
   "metadata": {
    "collapsed": false
   },
   "outputs": [
    {
     "data": {
      "text/plain": [
       "<matplotlib.legend.Legend at 0x11c3e60b8>"
      ]
     },
     "execution_count": 16,
     "metadata": {},
     "output_type": "execute_result"
    },
    {
     "data": {
      "image/png": "[encoded data removed]",
      "text/plain": [
       "<matplotlib.figure.Figure at 0x11bea8a58>"
      ]
     },
     "metadata": {},
     "output_type": "display_data"
    }
   ],
   "source": [
    "# plot histogram of survival and death in hosptital as a function of time in ICU\n",
    "(n1, bins1, patches1) = plt.hist(subject_los_death_stats_merged_survived.LOS, normed=False, bins=14,range=[0.0, 15.0],alpha=0.3)\n",
    "(n2, bins2, patches2) = plt.hist(subject_los_death_stats_merged_died.LOS, normed=False, bins=14,range=[0.0, 15.0],alpha=0.3)\n",
    "plt.title('Survival vs death - for a range of total ICU stays')\n",
    "\n",
    "plt.xlabel('Total time in ICUs (days)')\n",
    "plt.ylabel('Number')\n",
    "plt.legend(['survived in hospital','died in hospital'])"
   ]
  },
  {
   "cell_type": "code",
   "execution_count": 17,
   "metadata": {
    "collapsed": false
   },
   "outputs": [
    {
     "data": {
      "image/png": "[encoded data removed]",
      "text/plain": [
       "<matplotlib.figure.Figure at 0x11badcba8>"
      ]
     },
     "metadata": {},
     "output_type": "display_data"
    }
   ],
   "source": [
    "# plot line-plot of overall mortality as function of total ICU stay time\n",
    "mortality2 = n2/(n1+n2)\n",
    "len(mortality2)\n",
    "plt.plot(mortality2)\n",
    "plt.xlabel('Total time in ICUs (days)')\n",
    "plt.ylabel('Mortality')\n",
    "plt.xlim([0,20])\n",
    "plt.title('Mortality rate for a range of total ICU stay for each patient')\n",
    "plt.savefig(\"mortality_four_ICU_LOS_plot.pdf\", bbox_inches = 'tight',\n",
    "    pad_inches = 0.1)"
   ]
  },
  {
   "cell_type": "code",
   "execution_count": 18,
   "metadata": {
    "collapsed": false
   },
   "outputs": [
    {
     "data": {
      "image/png": "[encoded data removed]",
      "text/plain": [
       "<matplotlib.figure.Figure at 0x11adbd7f0>"
      ]
     },
     "metadata": {},
     "output_type": "display_data"
    }
   ],
   "source": [
    "# plot line-plot of overall mortality as function of total ICU stay time\n",
    "# version with error bars\n",
    "mortality2 = n2/(n1+n2)\n",
    "\n",
    "error_estimate = np.sqrt(mortality2*(1-mortality2)/sample_size) \n",
    "plt.errorbar(bins2[:-1],mortality2, yerr=error_estimate)\n",
    "#plt.plot(mortality2)\n",
    "plt.xlabel('Total time in ICUs (days)')\n",
    "plt.ylabel('Mortality')\n",
    "plt.title('Mortality rate for a range of total ICU stay for each patient')\n",
    "plt.ylim([0.1,0.8])\n",
    "plt.savefig(\"mortality_four_ICU_stay_days.pdf\", bbox_inches = 'tight',\n",
    "    pad_inches = 0.1)\n"
   ]
  },
  {
   "cell_type": "code",
   "execution_count": 19,
   "metadata": {
    "collapsed": false
   },
   "outputs": [
    {
     "data": {
      "text/plain": [
       "<matplotlib.legend.Legend at 0x11f586ba8>"
      ]
     },
     "execution_count": 19,
     "metadata": {},
     "output_type": "execute_result"
    },
    {
     "data": {
      "image/png": "[encoded data removed]",
      "text/plain": [
       "<matplotlib.figure.Figure at 0x11f58d320>"
      ]
     },
     "metadata": {},
     "output_type": "display_data"
    }
   ],
   "source": [
    "# plot histogram of survival and death in hosptital as a function of time in ICU\n",
    "# for smaller bins to focus in on minimum at day 1 to 2\n",
    "num_bins = 15\n",
    "(n1, bins1, patches1) = plt.hist(subject_los_death_stats_merged_survived.LOS, normed=False, bins=num_bins,range=[0.0, 15.0],alpha=0.3)\n",
    "(n2, bins2, patches2) = plt.hist(subject_los_death_stats_merged_died.LOS, normed=False, bins=num_bins,range=[0.0, 15.0],alpha=0.3)\n",
    "plt.title('Survival vs death - for a range of total ICU stays')\n",
    "\n",
    "plt.xlabel('Total time in ICUs (days)')\n",
    "plt.ylabel('Number')\n",
    "plt.legend(['survived in hospital','died in hospital'])"
   ]
  },
  {
   "cell_type": "code",
   "execution_count": 20,
   "metadata": {
    "collapsed": false
   },
   "outputs": [
    {
     "data": {
      "text/plain": [
       "array(['MICU', 'CCU', 'SICU', 'NICU', 'TSICU', 'CSRU'], dtype=object)"
      ]
     },
     "execution_count": 20,
     "metadata": {},
     "output_type": "execute_result"
    }
   ],
   "source": [
    "icustays_df.LAST_CAREUNIT.unique()"
   ]
  },
  {
   "cell_type": "code",
   "execution_count": 21,
   "metadata": {
    "collapsed": false
   },
   "outputs": [],
   "source": [
    "icustays_df_MICU = icustays_df[icustays_df.LAST_CAREUNIT=='MICU']\n",
    "icustays_df_CCU = icustays_df[icustays_df.LAST_CAREUNIT=='CCU']\n",
    "icustays_df_SICU = icustays_df[icustays_df.LAST_CAREUNIT=='SICU']\n",
    "icustays_df_NICU = icustays_df[icustays_df.LAST_CAREUNIT=='NICU']\n",
    "icustays_df_TSICU = icustays_df[icustays_df.LAST_CAREUNIT=='TSICU']\n",
    "icustays_df_CSRU = icustays_df[icustays_df.LAST_CAREUNIT=='CSRU']\n",
    "\n",
    "\n",
    "\n",
    "\n",
    "\n"
   ]
  },
  {
   "cell_type": "code",
   "execution_count": 22,
   "metadata": {
    "collapsed": false
   },
   "outputs": [
    {
     "data": {
      "text/plain": [
       "<matplotlib.legend.Legend at 0x11fcdbc50>"
      ]
     },
     "execution_count": 22,
     "metadata": {},
     "output_type": "execute_result"
    },
    {
     "data": {
      "image/png": "[encoded data removed]",
      "text/plain": [
       "<matplotlib.figure.Figure at 0x11f8178d0>"
      ]
     },
     "metadata": {},
     "output_type": "display_data"
    }
   ],
   "source": [
    "# get total time subject spent in MICU for each patient_id\n",
    "subject_los_df_MICU = icustays_df_MICU.groupby(['SUBJECT_ID','LOS']).size().reset_index().groupby('SUBJECT_ID')['LOS'].sum()\n",
    "subject_los_df_sorted_MICU = subject_los_df_MICU.sort_values()\n",
    "subject_los_sorted_reindexed_df_MICU = subject_los_df_sorted_MICU.reset_index()\n",
    "subject_los_death_stats_merged_MICU = subject_los_sorted_reindexed_df_MICU.merge(patients_df, left_on='SUBJECT_ID',right_on='SUBJECT_ID', how='inner')\n",
    "subject_los_death_stats_merged_died_MICU = subject_los_death_stats_merged_MICU[pd.notnull(subject_los_death_stats_merged_MICU.DOD_HOSP)]\n",
    "subject_los_death_stats_merged_survived_MICU = subject_los_death_stats_merged_MICU[pd.isnull(subject_los_death_stats_merged_MICU.DOD_HOSP)]\n",
    "\n",
    "\n",
    "# plot histogram of survival and death in hosptital as a function of time in MICU\n",
    "(n1_MICU, bins1_MICU, patches1_MICU) = plt.hist(subject_los_death_stats_merged_survived_MICU.LOS, normed=False, bins=30,range=[0.0, 20.0],alpha=0.3)\n",
    "(n2_MICU, bins2_MICU, patches2_MICU) = plt.hist(subject_los_death_stats_merged_died_MICU.LOS, normed=False, bins=30,range=[0.0, 20.0],alpha=0.3)\n",
    "plt.title('Survival vs death - for a range of total MICU stays')\n",
    "\n",
    "plt.xlabel('Total time in MICU (days)')\n",
    "plt.ylabel('Number')\n",
    "plt.legend(['survived in hospital','died in hospital'])"
   ]
  },
  {
   "cell_type": "code",
   "execution_count": 23,
   "metadata": {
    "collapsed": false
   },
   "outputs": [
    {
     "data": {
      "text/plain": [
       "<matplotlib.text.Text at 0x1203b5278>"
      ]
     },
     "execution_count": 23,
     "metadata": {},
     "output_type": "execute_result"
    },
    {
     "data": {
      "image/png": "[encoded data removed]",
      "text/plain": [
       "<matplotlib.figure.Figure at 0x11ada9518>"
      ]
     },
     "metadata": {},
     "output_type": "display_data"
    }
   ],
   "source": [
    "# plot line-plot of overall mortality as function of total ICU stay time\n",
    "mortality2_MICU = n2_MICU/(n1_MICU + n2_MICU)\n",
    "len(mortality2_MICU)\n",
    "plt.plot(mortality2_MICU)\n",
    "plt.xlabel('Total time in MICU (days)')\n",
    "plt.ylabel('Mortality')\n",
    "plt.title('Mortality rate for a range of total MICU stay for each patient')"
   ]
  },
  {
   "cell_type": "code",
   "execution_count": 24,
   "metadata": {
    "collapsed": false
   },
   "outputs": [
    {
     "data": {
      "text/plain": [
       "<matplotlib.legend.Legend at 0x1206796a0>"
      ]
     },
     "execution_count": 24,
     "metadata": {},
     "output_type": "execute_result"
    },
    {
     "data": {
      "image/png": "[encoded data removed]",
      "text/plain": [
       "<matplotlib.figure.Figure at 0x11c2635f8>"
      ]
     },
     "metadata": {},
     "output_type": "display_data"
    }
   ],
   "source": [
    "# get total time subject spent in CCU for each patient_id\n",
    "subject_los_df_CCU = icustays_df_CCU.groupby(['SUBJECT_ID','LOS']).size().reset_index().groupby('SUBJECT_ID')['LOS'].sum()\n",
    "subject_los_df_sorted_CCU = subject_los_df_CCU.sort_values()\n",
    "subject_los_sorted_reindexed_df_CCU = subject_los_df_sorted_CCU.reset_index()\n",
    "subject_los_death_stats_merged_CCU = subject_los_sorted_reindexed_df_CCU.merge(patients_df, left_on='SUBJECT_ID',right_on='SUBJECT_ID', how='inner')\n",
    "subject_los_death_stats_merged_died_CCU = subject_los_death_stats_merged_CCU[pd.notnull(subject_los_death_stats_merged_CCU.DOD_HOSP)]\n",
    "subject_los_death_stats_merged_survived_CCU = subject_los_death_stats_merged_CCU[pd.isnull(subject_los_death_stats_merged_CCU.DOD_HOSP)]\n",
    "\n",
    "\n",
    "# plot histogram of survival and death in hosptital as a function of time in CCU\n",
    "(n1_CCU, bins1_CCU, patches1_CCU) = plt.hist(subject_los_death_stats_merged_survived_CCU.LOS, normed=False, bins=30,range=[0.0, 20.0],alpha=0.3)\n",
    "(n2_CCU, bins2_CCU, patches2_CCU) = plt.hist(subject_los_death_stats_merged_died_CCU.LOS, normed=False, bins=30,range=[0.0, 20.0],alpha=0.3)\n",
    "plt.title('Survival vs death - for a range of total CCU stays')\n",
    "\n",
    "plt.xlabel('Total time in CCU (days)')\n",
    "plt.ylabel('Number')\n",
    "plt.legend(['survived in hospital','died in hospital'])"
   ]
  },
  {
   "cell_type": "code",
   "execution_count": 25,
   "metadata": {
    "collapsed": false
   },
   "outputs": [
    {
     "data": {
      "text/plain": [
       "<matplotlib.legend.Legend at 0x120a005f8>"
      ]
     },
     "execution_count": 25,
     "metadata": {},
     "output_type": "execute_result"
    },
    {
     "data": {
      "image/png": "[encoded data removed]",
      "text/plain": [
       "<matplotlib.figure.Figure at 0x120478e48>"
      ]
     },
     "metadata": {},
     "output_type": "display_data"
    }
   ],
   "source": [
    "# get total time subject spent in SICU for each patient_id\n",
    "subject_los_df_SICU = icustays_df_SICU.groupby(['SUBJECT_ID','LOS']).size().reset_index().groupby('SUBJECT_ID')['LOS'].sum()\n",
    "subject_los_df_sorted_SICU = subject_los_df_SICU.sort_values()\n",
    "subject_los_sorted_reindexed_df_SICU = subject_los_df_sorted_SICU.reset_index()\n",
    "subject_los_death_stats_merged_SICU = subject_los_sorted_reindexed_df_SICU.merge(patients_df, left_on='SUBJECT_ID',right_on='SUBJECT_ID', how='inner')\n",
    "subject_los_death_stats_merged_died_SICU = subject_los_death_stats_merged_SICU[pd.notnull(subject_los_death_stats_merged_SICU.DOD_HOSP)]\n",
    "subject_los_death_stats_merged_survived_SICU = subject_los_death_stats_merged_SICU[pd.isnull(subject_los_death_stats_merged_SICU.DOD_HOSP)]\n",
    "\n",
    "\n",
    "# plot histogram of survival and death in hosptital as a function of time in SICU\n",
    "(n1_SICU, bins1_SICU, patches1_SICU) = plt.hist(subject_los_death_stats_merged_survived_SICU.LOS, normed=False, bins=30,range=[0.0, 20.0],alpha=0.3)\n",
    "(n2_SICU, bins2_SICU, patches2_SICU) = plt.hist(subject_los_death_stats_merged_died_SICU.LOS, normed=False, bins=30,range=[0.0, 20.0],alpha=0.3)\n",
    "plt.title('Survival vs death - for a range of total SICU stays')\n",
    "\n",
    "plt.xlabel('Total time in SICU (days)')\n",
    "plt.ylabel('Number')\n",
    "plt.legend(['survived in hospital','died in hospital'])"
   ]
  },
  {
   "cell_type": "code",
   "execution_count": 26,
   "metadata": {
    "collapsed": false
   },
   "outputs": [
    {
     "data": {
      "image/png": "[encoded data removed]",
      "text/plain": [
       "<matplotlib.figure.Figure at 0x11f584630>"
      ]
     },
     "metadata": {},
     "output_type": "display_data"
    }
   ],
   "source": [
    "# get total time subject spent in NICU for each patient_id\n",
    "subject_los_df_NICU = icustays_df_NICU.groupby(['SUBJECT_ID','LOS']).size().reset_index().groupby('SUBJECT_ID')['LOS'].sum()\n",
    "subject_los_df_sorted_NICU = subject_los_df_NICU.sort_values()\n",
    "subject_los_sorted_reindexed_df_NICU = subject_los_df_sorted_NICU.reset_index()\n",
    "subject_los_death_stats_merged_NICU = subject_los_sorted_reindexed_df_NICU.merge(patients_df, left_on='SUBJECT_ID',right_on='SUBJECT_ID', how='inner')\n",
    "subject_los_death_stats_merged_died_NICU = subject_los_death_stats_merged_NICU[pd.notnull(subject_los_death_stats_merged_NICU.DOD_HOSP)]\n",
    "subject_los_death_stats_merged_survived_NICU = subject_los_death_stats_merged_NICU[pd.isnull(subject_los_death_stats_merged_NICU.DOD_HOSP)]\n",
    "\n",
    "\n",
    "# plot histogram of survival and death in hosptital as a function of time in NICU\n",
    "(n1_NICU, bins1_NICU, patches1_NICU) = plt.hist(subject_los_death_stats_merged_survived_NICU.LOS, normed=False, bins=30,range=[0.0, 20.0],alpha=0.3)\n",
    "(n2_NICU, bins2_NICU, patches2_NICU) = plt.hist(subject_los_death_stats_merged_died_NICU.LOS, normed=False, bins=30,range=[0.0, 20.0],alpha=0.3)\n",
    "plt.title('Survival vs death - for a range of total NICU stays')\n",
    "\n",
    "plt.xlabel('Total time in NICU (days)')\n",
    "plt.ylabel('Number')\n",
    "plt.legend(['survived in hospital','died in hospital'])\n",
    "plt.savefig(\"mortality_NICU_LOS_plot.pdf\", bbox_inches = 'tight',\n",
    "    pad_inches = 0.1)"
   ]
  },
  {
   "cell_type": "code",
   "execution_count": 27,
   "metadata": {
    "collapsed": false
   },
   "outputs": [
    {
     "data": {
      "text/plain": [
       "<matplotlib.legend.Legend at 0x120ff8fd0>"
      ]
     },
     "execution_count": 27,
     "metadata": {},
     "output_type": "execute_result"
    },
    {
     "data": {
      "image/png": "[encoded data removed]",
      "text/plain": [
       "<matplotlib.figure.Figure at 0x120fa8080>"
      ]
     },
     "metadata": {},
     "output_type": "display_data"
    }
   ],
   "source": [
    "# get total time subject spent in TSICU for each patient_id\n",
    "subject_los_df_TSICU = icustays_df_TSICU.groupby(['SUBJECT_ID','LOS']).size().reset_index().groupby('SUBJECT_ID')['LOS'].sum()\n",
    "subject_los_df_sorted_TSICU = subject_los_df_TSICU.sort_values()\n",
    "subject_los_sorted_reindexed_df_TSICU = subject_los_df_sorted_TSICU.reset_index()\n",
    "subject_los_death_stats_merged_TSICU = subject_los_sorted_reindexed_df_TSICU.merge(patients_df, left_on='SUBJECT_ID',right_on='SUBJECT_ID', how='inner')\n",
    "subject_los_death_stats_merged_died_TSICU = subject_los_death_stats_merged_TSICU[pd.notnull(subject_los_death_stats_merged_TSICU.DOD_HOSP)]\n",
    "subject_los_death_stats_merged_survived_TSICU = subject_los_death_stats_merged_TSICU[pd.isnull(subject_los_death_stats_merged_TSICU.DOD_HOSP)]\n",
    "\n",
    "\n",
    "# plot histogram of survival and death in hosptital as a function of time in TSICU\n",
    "(n1_TSICU, bins1_TSICU, patches1_TSICU) = plt.hist(subject_los_death_stats_merged_survived_TSICU.LOS, normed=False, bins=30,range=[0.0, 20.0],alpha=0.3)\n",
    "(n2_TSICU, bins2_TSICU, patches2_TSICU) = plt.hist(subject_los_death_stats_merged_died_TSICU.LOS, normed=False, bins=30,range=[0.0, 20.0],alpha=0.3)\n",
    "plt.title('Survival vs death - for a range of total TSICU stays')\n",
    "\n",
    "plt.xlabel('Total time in TSICU (days)')\n",
    "plt.ylabel('Number')\n",
    "plt.legend(['survived in hospital','died in hospital'])"
   ]
  },
  {
   "cell_type": "code",
   "execution_count": 28,
   "metadata": {
    "collapsed": false
   },
   "outputs": [
    {
     "data": {
      "text/plain": [
       "<matplotlib.legend.Legend at 0x11463b2e8>"
      ]
     },
     "execution_count": 28,
     "metadata": {},
     "output_type": "execute_result"
    },
    {
     "data": {
      "image/png": "[encoded data removed]",
      "text/plain": [
       "<matplotlib.figure.Figure at 0x121284d68>"
      ]
     },
     "metadata": {},
     "output_type": "display_data"
    }
   ],
   "source": [
    "# get total time subject spent in CSRU for each patient_id\n",
    "subject_los_df_CSRU = icustays_df_CSRU.groupby(['SUBJECT_ID','LOS']).size().reset_index().groupby('SUBJECT_ID')['LOS'].sum()\n",
    "subject_los_df_sorted_CSRU = subject_los_df_CSRU.sort_values()\n",
    "subject_los_sorted_reindexed_df_CSRU = subject_los_df_sorted_CSRU.reset_index()\n",
    "subject_los_death_stats_merged_CSRU = subject_los_sorted_reindexed_df_CSRU.merge(patients_df, left_on='SUBJECT_ID',right_on='SUBJECT_ID', how='inner')\n",
    "subject_los_death_stats_merged_died_CSRU = subject_los_death_stats_merged_CSRU[pd.notnull(subject_los_death_stats_merged_CSRU.DOD_HOSP)]\n",
    "subject_los_death_stats_merged_survived_CSRU = subject_los_death_stats_merged_CSRU[pd.isnull(subject_los_death_stats_merged_CSRU.DOD_HOSP)]\n",
    "\n",
    "\n",
    "# plot histogram of survival and death in hosptital as a function of time in CSRU\n",
    "(n1_CSRU, bins1_CSRU, patches1_CSRU) = plt.hist(subject_los_death_stats_merged_survived_CSRU.LOS, normed=False, bins=30,range=[0.0, 20.0],alpha=0.3)\n",
    "(n2_CSRU, bins2_CSRU, patches2_CSRU) = plt.hist(subject_los_death_stats_merged_died_CSRU.LOS, normed=False, bins=30,range=[0.0, 20.0],alpha=0.3)\n",
    "plt.title('Survival vs death - for a range of total CSRU stays')\n",
    "\n",
    "plt.xlabel('Total time in CSRU (days)')\n",
    "plt.ylabel('Number')\n",
    "plt.legend(['survived in hospital','died in hospital'])"
   ]
  },
  {
   "cell_type": "code",
   "execution_count": 29,
   "metadata": {
    "collapsed": true
   },
   "outputs": [],
   "source": [
    "microbiologyevents_df = pd.read_csv('MICROBIOLOGYEVENTS.csv')\n"
   ]
  },
  {
   "cell_type": "code",
   "execution_count": 30,
   "metadata": {
    "collapsed": true
   },
   "outputs": [],
   "source": [
    "all_stay_patients = subject_los_death_stats_merged"
   ]
  },
  {
   "cell_type": "code",
   "execution_count": 31,
   "metadata": {
    "collapsed": false
   },
   "outputs": [
    {
     "data": {
      "text/plain": [
       "573740"
      ]
     },
     "execution_count": 31,
     "metadata": {},
     "output_type": "execute_result"
    }
   ],
   "source": [
    "all_stay_patients_micro_merge =  all_stay_patients.merge(microbiologyevents_df, left_on='SUBJECT_ID',right_on='SUBJECT_ID', how='inner')\n",
    "len(all_stay_patients_micro_merge)"
   ]
  },
  {
   "cell_type": "code",
   "execution_count": 32,
   "metadata": {
    "collapsed": false
   },
   "outputs": [
    {
     "data": {
      "text/html": [
       "<div>\n",
       "<table border=\"1\" class=\"dataframe\">\n",
       "  <thead>\n",
       "    <tr style=\"text-align: right;\">\n",
       "      <th></th>\n",
       "      <th>SUBJECT_ID</th>\n",
       "      <th>0</th>\n",
       "      <th>LOS</th>\n",
       "      <th>ROW_ID</th>\n",
       "      <th>GENDER</th>\n",
       "      <th>DOB</th>\n",
       "      <th>DOD</th>\n",
       "      <th>DOD_HOSP</th>\n",
       "      <th>DOD_SSN</th>\n",
       "      <th>EXPIRE_FLAG</th>\n",
       "    </tr>\n",
       "  </thead>\n",
       "  <tbody>\n",
       "    <tr>\n",
       "      <th>0</th>\n",
       "      <td>3</td>\n",
       "      <td>17</td>\n",
       "      <td>6.0646</td>\n",
       "      <td>2</td>\n",
       "      <td>M</td>\n",
       "      <td>2025-04-11</td>\n",
       "      <td>2102-06-14</td>\n",
       "      <td>NaT</td>\n",
       "      <td>2102-06-14</td>\n",
       "      <td>1</td>\n",
       "    </tr>\n",
       "    <tr>\n",
       "      <th>1</th>\n",
       "      <td>4</td>\n",
       "      <td>16</td>\n",
       "      <td>1.6785</td>\n",
       "      <td>3</td>\n",
       "      <td>F</td>\n",
       "      <td>2143-05-12</td>\n",
       "      <td>NaT</td>\n",
       "      <td>NaT</td>\n",
       "      <td>NaT</td>\n",
       "      <td>0</td>\n",
       "    </tr>\n",
       "    <tr>\n",
       "      <th>2</th>\n",
       "      <td>9</td>\n",
       "      <td>14</td>\n",
       "      <td>5.3231</td>\n",
       "      <td>8</td>\n",
       "      <td>M</td>\n",
       "      <td>2108-01-26</td>\n",
       "      <td>2149-11-14</td>\n",
       "      <td>2149-11-14</td>\n",
       "      <td>2149-11-14</td>\n",
       "      <td>1</td>\n",
       "    </tr>\n",
       "    <tr>\n",
       "      <th>3</th>\n",
       "      <td>11</td>\n",
       "      <td>1</td>\n",
       "      <td>1.5844</td>\n",
       "      <td>10</td>\n",
       "      <td>F</td>\n",
       "      <td>2128-02-22</td>\n",
       "      <td>2178-11-14</td>\n",
       "      <td>NaT</td>\n",
       "      <td>2178-11-14</td>\n",
       "      <td>1</td>\n",
       "    </tr>\n",
       "    <tr>\n",
       "      <th>4</th>\n",
       "      <td>12</td>\n",
       "      <td>14</td>\n",
       "      <td>7.6348</td>\n",
       "      <td>11</td>\n",
       "      <td>M</td>\n",
       "      <td>2032-03-24</td>\n",
       "      <td>2104-08-20</td>\n",
       "      <td>2104-08-20</td>\n",
       "      <td>2104-08-20</td>\n",
       "      <td>1</td>\n",
       "    </tr>\n",
       "    <tr>\n",
       "      <th>5</th>\n",
       "      <td>19</td>\n",
       "      <td>1</td>\n",
       "      <td>1.3017</td>\n",
       "      <td>16</td>\n",
       "      <td>M</td>\n",
       "      <td>1808-08-05</td>\n",
       "      <td>2109-08-18</td>\n",
       "      <td>NaT</td>\n",
       "      <td>2109-08-18</td>\n",
       "      <td>1</td>\n",
       "    </tr>\n",
       "    <tr>\n",
       "      <th>6</th>\n",
       "      <td>21</td>\n",
       "      <td>26</td>\n",
       "      <td>14.2664</td>\n",
       "      <td>18</td>\n",
       "      <td>M</td>\n",
       "      <td>2047-04-04</td>\n",
       "      <td>2135-02-08</td>\n",
       "      <td>2135-02-08</td>\n",
       "      <td>2135-02-08</td>\n",
       "      <td>1</td>\n",
       "    </tr>\n",
       "    <tr>\n",
       "      <th>7</th>\n",
       "      <td>22</td>\n",
       "      <td>1</td>\n",
       "      <td>1.1438</td>\n",
       "      <td>19</td>\n",
       "      <td>F</td>\n",
       "      <td>2131-05-07</td>\n",
       "      <td>NaT</td>\n",
       "      <td>NaT</td>\n",
       "      <td>NaT</td>\n",
       "      <td>0</td>\n",
       "    </tr>\n",
       "    <tr>\n",
       "      <th>8</th>\n",
       "      <td>23</td>\n",
       "      <td>2</td>\n",
       "      <td>1.1862</td>\n",
       "      <td>20</td>\n",
       "      <td>M</td>\n",
       "      <td>2082-07-17</td>\n",
       "      <td>NaT</td>\n",
       "      <td>NaT</td>\n",
       "      <td>NaT</td>\n",
       "      <td>0</td>\n",
       "    </tr>\n",
       "    <tr>\n",
       "      <th>9</th>\n",
       "      <td>25</td>\n",
       "      <td>2</td>\n",
       "      <td>3.5466</td>\n",
       "      <td>22</td>\n",
       "      <td>M</td>\n",
       "      <td>2101-11-21</td>\n",
       "      <td>NaT</td>\n",
       "      <td>NaT</td>\n",
       "      <td>NaT</td>\n",
       "      <td>0</td>\n",
       "    </tr>\n",
       "    <tr>\n",
       "      <th>10</th>\n",
       "      <td>26</td>\n",
       "      <td>10</td>\n",
       "      <td>2.1407</td>\n",
       "      <td>23</td>\n",
       "      <td>M</td>\n",
       "      <td>2054-05-04</td>\n",
       "      <td>2128-02-25</td>\n",
       "      <td>NaT</td>\n",
       "      <td>2128-02-25</td>\n",
       "      <td>1</td>\n",
       "    </tr>\n",
       "    <tr>\n",
       "      <th>11</th>\n",
       "      <td>31</td>\n",
       "      <td>28</td>\n",
       "      <td>7.9379</td>\n",
       "      <td>27</td>\n",
       "      <td>M</td>\n",
       "      <td>2036-05-17</td>\n",
       "      <td>2108-08-30</td>\n",
       "      <td>2108-08-30</td>\n",
       "      <td>2108-08-30</td>\n",
       "      <td>1</td>\n",
       "    </tr>\n",
       "    <tr>\n",
       "      <th>12</th>\n",
       "      <td>33</td>\n",
       "      <td>8</td>\n",
       "      <td>1.5542</td>\n",
       "      <td>29</td>\n",
       "      <td>M</td>\n",
       "      <td>2034-08-02</td>\n",
       "      <td>NaT</td>\n",
       "      <td>NaT</td>\n",
       "      <td>NaT</td>\n",
       "      <td>0</td>\n",
       "    </tr>\n",
       "    <tr>\n",
       "      <th>13</th>\n",
       "      <td>34</td>\n",
       "      <td>1</td>\n",
       "      <td>2.3022</td>\n",
       "      <td>30</td>\n",
       "      <td>M</td>\n",
       "      <td>1886-07-18</td>\n",
       "      <td>2192-01-30</td>\n",
       "      <td>NaT</td>\n",
       "      <td>2192-01-30</td>\n",
       "      <td>1</td>\n",
       "    </tr>\n",
       "    <tr>\n",
       "      <th>14</th>\n",
       "      <td>36</td>\n",
       "      <td>13</td>\n",
       "      <td>4.3483</td>\n",
       "      <td>32</td>\n",
       "      <td>M</td>\n",
       "      <td>2061-08-17</td>\n",
       "      <td>NaT</td>\n",
       "      <td>NaT</td>\n",
       "      <td>NaT</td>\n",
       "      <td>0</td>\n",
       "    </tr>\n",
       "    <tr>\n",
       "      <th>15</th>\n",
       "      <td>37</td>\n",
       "      <td>6</td>\n",
       "      <td>1.1397</td>\n",
       "      <td>33</td>\n",
       "      <td>M</td>\n",
       "      <td>2114-09-17</td>\n",
       "      <td>2185-01-06</td>\n",
       "      <td>2185-01-06</td>\n",
       "      <td>2185-01-06</td>\n",
       "      <td>1</td>\n",
       "    </tr>\n",
       "    <tr>\n",
       "      <th>16</th>\n",
       "      <td>38</td>\n",
       "      <td>55</td>\n",
       "      <td>25.5485</td>\n",
       "      <td>34</td>\n",
       "      <td>M</td>\n",
       "      <td>2090-08-31</td>\n",
       "      <td>NaT</td>\n",
       "      <td>NaT</td>\n",
       "      <td>NaT</td>\n",
       "      <td>0</td>\n",
       "    </tr>\n",
       "    <tr>\n",
       "      <th>17</th>\n",
       "      <td>41</td>\n",
       "      <td>85</td>\n",
       "      <td>3.3937</td>\n",
       "      <td>36</td>\n",
       "      <td>M</td>\n",
       "      <td>2076-05-13</td>\n",
       "      <td>2133-09-30</td>\n",
       "      <td>NaT</td>\n",
       "      <td>2133-09-30</td>\n",
       "      <td>1</td>\n",
       "    </tr>\n",
       "    <tr>\n",
       "      <th>18</th>\n",
       "      <td>43</td>\n",
       "      <td>2</td>\n",
       "      <td>4.6252</td>\n",
       "      <td>38</td>\n",
       "      <td>M</td>\n",
       "      <td>2153-12-25</td>\n",
       "      <td>NaT</td>\n",
       "      <td>NaT</td>\n",
       "      <td>NaT</td>\n",
       "      <td>0</td>\n",
       "    </tr>\n",
       "    <tr>\n",
       "      <th>19</th>\n",
       "      <td>52</td>\n",
       "      <td>12</td>\n",
       "      <td>1.8504</td>\n",
       "      <td>45</td>\n",
       "      <td>M</td>\n",
       "      <td>2152-11-26</td>\n",
       "      <td>2192-07-11</td>\n",
       "      <td>NaT</td>\n",
       "      <td>2192-07-11</td>\n",
       "      <td>1</td>\n",
       "    </tr>\n",
       "    <tr>\n",
       "      <th>20</th>\n",
       "      <td>59</td>\n",
       "      <td>19</td>\n",
       "      <td>2.2017</td>\n",
       "      <td>52</td>\n",
       "      <td>F</td>\n",
       "      <td>2110-10-12</td>\n",
       "      <td>2198-09-06</td>\n",
       "      <td>2198-09-06</td>\n",
       "      <td>2198-09-06</td>\n",
       "      <td>1</td>\n",
       "    </tr>\n",
       "    <tr>\n",
       "      <th>21</th>\n",
       "      <td>61</td>\n",
       "      <td>83</td>\n",
       "      <td>4.5682</td>\n",
       "      <td>54</td>\n",
       "      <td>M</td>\n",
       "      <td>2063-10-21</td>\n",
       "      <td>2119-02-03</td>\n",
       "      <td>2119-02-03</td>\n",
       "      <td>2119-02-03</td>\n",
       "      <td>1</td>\n",
       "    </tr>\n",
       "    <tr>\n",
       "      <th>22</th>\n",
       "      <td>62</td>\n",
       "      <td>8</td>\n",
       "      <td>2.8257</td>\n",
       "      <td>55</td>\n",
       "      <td>M</td>\n",
       "      <td>2044-05-08</td>\n",
       "      <td>NaT</td>\n",
       "      <td>NaT</td>\n",
       "      <td>NaT</td>\n",
       "      <td>0</td>\n",
       "    </tr>\n",
       "    <tr>\n",
       "      <th>23</th>\n",
       "      <td>64</td>\n",
       "      <td>17</td>\n",
       "      <td>2.3250</td>\n",
       "      <td>57</td>\n",
       "      <td>F</td>\n",
       "      <td>2116-06-27</td>\n",
       "      <td>NaT</td>\n",
       "      <td>NaT</td>\n",
       "      <td>NaT</td>\n",
       "      <td>0</td>\n",
       "    </tr>\n",
       "    <tr>\n",
       "      <th>24</th>\n",
       "      <td>65</td>\n",
       "      <td>2</td>\n",
       "      <td>3.3260</td>\n",
       "      <td>58</td>\n",
       "      <td>M</td>\n",
       "      <td>2106-01-17</td>\n",
       "      <td>NaT</td>\n",
       "      <td>NaT</td>\n",
       "      <td>NaT</td>\n",
       "      <td>0</td>\n",
       "    </tr>\n",
       "    <tr>\n",
       "      <th>25</th>\n",
       "      <td>67</td>\n",
       "      <td>23</td>\n",
       "      <td>1.9516</td>\n",
       "      <td>60</td>\n",
       "      <td>M</td>\n",
       "      <td>2084-06-05</td>\n",
       "      <td>2157-12-02</td>\n",
       "      <td>2157-12-02</td>\n",
       "      <td>2157-12-02</td>\n",
       "      <td>1</td>\n",
       "    </tr>\n",
       "    <tr>\n",
       "      <th>26</th>\n",
       "      <td>68</td>\n",
       "      <td>43</td>\n",
       "      <td>10.7551</td>\n",
       "      <td>61</td>\n",
       "      <td>F</td>\n",
       "      <td>2132-02-29</td>\n",
       "      <td>2174-02-11</td>\n",
       "      <td>NaT</td>\n",
       "      <td>2174-02-11</td>\n",
       "      <td>1</td>\n",
       "    </tr>\n",
       "    <tr>\n",
       "      <th>27</th>\n",
       "      <td>71</td>\n",
       "      <td>2</td>\n",
       "      <td>2.8609</td>\n",
       "      <td>64</td>\n",
       "      <td>F</td>\n",
       "      <td>2127-08-03</td>\n",
       "      <td>NaT</td>\n",
       "      <td>NaT</td>\n",
       "      <td>NaT</td>\n",
       "      <td>0</td>\n",
       "    </tr>\n",
       "    <tr>\n",
       "      <th>28</th>\n",
       "      <td>73</td>\n",
       "      <td>15</td>\n",
       "      <td>2.6794</td>\n",
       "      <td>66</td>\n",
       "      <td>F</td>\n",
       "      <td>2113-05-22</td>\n",
       "      <td>NaT</td>\n",
       "      <td>NaT</td>\n",
       "      <td>NaT</td>\n",
       "      <td>0</td>\n",
       "    </tr>\n",
       "    <tr>\n",
       "      <th>29</th>\n",
       "      <td>78</td>\n",
       "      <td>8</td>\n",
       "      <td>1.4891</td>\n",
       "      <td>70</td>\n",
       "      <td>M</td>\n",
       "      <td>2128-07-01</td>\n",
       "      <td>2180-02-02</td>\n",
       "      <td>NaT</td>\n",
       "      <td>2180-02-02</td>\n",
       "      <td>1</td>\n",
       "    </tr>\n",
       "    <tr>\n",
       "      <th>...</th>\n",
       "      <td>...</td>\n",
       "      <td>...</td>\n",
       "      <td>...</td>\n",
       "      <td>...</td>\n",
       "      <td>...</td>\n",
       "      <td>...</td>\n",
       "      <td>...</td>\n",
       "      <td>...</td>\n",
       "      <td>...</td>\n",
       "      <td>...</td>\n",
       "    </tr>\n",
       "    <tr>\n",
       "      <th>27620</th>\n",
       "      <td>99865</td>\n",
       "      <td>30</td>\n",
       "      <td>2.8129</td>\n",
       "      <td>46482</td>\n",
       "      <td>F</td>\n",
       "      <td>2107-06-25</td>\n",
       "      <td>2184-12-30</td>\n",
       "      <td>2184-12-30</td>\n",
       "      <td>2184-12-30</td>\n",
       "      <td>1</td>\n",
       "    </tr>\n",
       "    <tr>\n",
       "      <th>27621</th>\n",
       "      <td>99868</td>\n",
       "      <td>2</td>\n",
       "      <td>1.3862</td>\n",
       "      <td>46483</td>\n",
       "      <td>F</td>\n",
       "      <td>2122-03-31</td>\n",
       "      <td>NaT</td>\n",
       "      <td>NaT</td>\n",
       "      <td>NaT</td>\n",
       "      <td>0</td>\n",
       "    </tr>\n",
       "    <tr>\n",
       "      <th>27622</th>\n",
       "      <td>99870</td>\n",
       "      <td>1</td>\n",
       "      <td>1.2625</td>\n",
       "      <td>46484</td>\n",
       "      <td>F</td>\n",
       "      <td>2123-01-29</td>\n",
       "      <td>NaT</td>\n",
       "      <td>NaT</td>\n",
       "      <td>NaT</td>\n",
       "      <td>0</td>\n",
       "    </tr>\n",
       "    <tr>\n",
       "      <th>27623</th>\n",
       "      <td>99872</td>\n",
       "      <td>1</td>\n",
       "      <td>1.0670</td>\n",
       "      <td>46485</td>\n",
       "      <td>F</td>\n",
       "      <td>2083-01-19</td>\n",
       "      <td>NaT</td>\n",
       "      <td>NaT</td>\n",
       "      <td>NaT</td>\n",
       "      <td>0</td>\n",
       "    </tr>\n",
       "    <tr>\n",
       "      <th>27624</th>\n",
       "      <td>99881</td>\n",
       "      <td>5</td>\n",
       "      <td>2.1914</td>\n",
       "      <td>46488</td>\n",
       "      <td>M</td>\n",
       "      <td>2096-04-15</td>\n",
       "      <td>2174-01-22</td>\n",
       "      <td>2174-01-22</td>\n",
       "      <td>2174-01-22</td>\n",
       "      <td>1</td>\n",
       "    </tr>\n",
       "    <tr>\n",
       "      <th>27625</th>\n",
       "      <td>99883</td>\n",
       "      <td>4</td>\n",
       "      <td>2.0309</td>\n",
       "      <td>46489</td>\n",
       "      <td>M</td>\n",
       "      <td>2058-02-04</td>\n",
       "      <td>NaT</td>\n",
       "      <td>NaT</td>\n",
       "      <td>NaT</td>\n",
       "      <td>0</td>\n",
       "    </tr>\n",
       "    <tr>\n",
       "      <th>27626</th>\n",
       "      <td>99893</td>\n",
       "      <td>2</td>\n",
       "      <td>2.1240</td>\n",
       "      <td>46490</td>\n",
       "      <td>M</td>\n",
       "      <td>2104-09-12</td>\n",
       "      <td>2193-12-30</td>\n",
       "      <td>NaT</td>\n",
       "      <td>2193-12-30</td>\n",
       "      <td>1</td>\n",
       "    </tr>\n",
       "    <tr>\n",
       "      <th>27627</th>\n",
       "      <td>99894</td>\n",
       "      <td>17</td>\n",
       "      <td>3.7134</td>\n",
       "      <td>46491</td>\n",
       "      <td>F</td>\n",
       "      <td>2069-07-03</td>\n",
       "      <td>NaT</td>\n",
       "      <td>NaT</td>\n",
       "      <td>NaT</td>\n",
       "      <td>0</td>\n",
       "    </tr>\n",
       "    <tr>\n",
       "      <th>27628</th>\n",
       "      <td>99897</td>\n",
       "      <td>5</td>\n",
       "      <td>2.4439</td>\n",
       "      <td>46492</td>\n",
       "      <td>M</td>\n",
       "      <td>2128-01-18</td>\n",
       "      <td>NaT</td>\n",
       "      <td>NaT</td>\n",
       "      <td>NaT</td>\n",
       "      <td>0</td>\n",
       "    </tr>\n",
       "    <tr>\n",
       "      <th>27629</th>\n",
       "      <td>99899</td>\n",
       "      <td>30</td>\n",
       "      <td>9.1439</td>\n",
       "      <td>46493</td>\n",
       "      <td>M</td>\n",
       "      <td>2026-06-20</td>\n",
       "      <td>2113-06-13</td>\n",
       "      <td>2113-06-13</td>\n",
       "      <td>NaT</td>\n",
       "      <td>1</td>\n",
       "    </tr>\n",
       "    <tr>\n",
       "      <th>27630</th>\n",
       "      <td>99901</td>\n",
       "      <td>4</td>\n",
       "      <td>6.1242</td>\n",
       "      <td>46494</td>\n",
       "      <td>M</td>\n",
       "      <td>2104-03-10</td>\n",
       "      <td>NaT</td>\n",
       "      <td>NaT</td>\n",
       "      <td>NaT</td>\n",
       "      <td>0</td>\n",
       "    </tr>\n",
       "    <tr>\n",
       "      <th>27631</th>\n",
       "      <td>99903</td>\n",
       "      <td>1</td>\n",
       "      <td>1.0388</td>\n",
       "      <td>46495</td>\n",
       "      <td>M</td>\n",
       "      <td>2095-11-27</td>\n",
       "      <td>NaT</td>\n",
       "      <td>NaT</td>\n",
       "      <td>NaT</td>\n",
       "      <td>0</td>\n",
       "    </tr>\n",
       "    <tr>\n",
       "      <th>27632</th>\n",
       "      <td>99912</td>\n",
       "      <td>26</td>\n",
       "      <td>12.0867</td>\n",
       "      <td>46496</td>\n",
       "      <td>M</td>\n",
       "      <td>2068-09-26</td>\n",
       "      <td>2154-08-15</td>\n",
       "      <td>2154-08-15</td>\n",
       "      <td>NaT</td>\n",
       "      <td>1</td>\n",
       "    </tr>\n",
       "    <tr>\n",
       "      <th>27633</th>\n",
       "      <td>99923</td>\n",
       "      <td>10</td>\n",
       "      <td>2.9850</td>\n",
       "      <td>46499</td>\n",
       "      <td>M</td>\n",
       "      <td>2146-10-04</td>\n",
       "      <td>NaT</td>\n",
       "      <td>NaT</td>\n",
       "      <td>NaT</td>\n",
       "      <td>0</td>\n",
       "    </tr>\n",
       "    <tr>\n",
       "      <th>27634</th>\n",
       "      <td>99928</td>\n",
       "      <td>4</td>\n",
       "      <td>0.9902</td>\n",
       "      <td>46500</td>\n",
       "      <td>F</td>\n",
       "      <td>2161-01-02</td>\n",
       "      <td>NaT</td>\n",
       "      <td>NaT</td>\n",
       "      <td>NaT</td>\n",
       "      <td>0</td>\n",
       "    </tr>\n",
       "    <tr>\n",
       "      <th>27635</th>\n",
       "      <td>99934</td>\n",
       "      <td>24</td>\n",
       "      <td>3.5489</td>\n",
       "      <td>46501</td>\n",
       "      <td>M</td>\n",
       "      <td>2092-03-18</td>\n",
       "      <td>NaT</td>\n",
       "      <td>NaT</td>\n",
       "      <td>NaT</td>\n",
       "      <td>0</td>\n",
       "    </tr>\n",
       "    <tr>\n",
       "      <th>27636</th>\n",
       "      <td>99935</td>\n",
       "      <td>9</td>\n",
       "      <td>0.6598</td>\n",
       "      <td>46502</td>\n",
       "      <td>M</td>\n",
       "      <td>2064-05-19</td>\n",
       "      <td>2139-12-15</td>\n",
       "      <td>2139-12-15</td>\n",
       "      <td>2139-12-15</td>\n",
       "      <td>1</td>\n",
       "    </tr>\n",
       "    <tr>\n",
       "      <th>27637</th>\n",
       "      <td>99936</td>\n",
       "      <td>2</td>\n",
       "      <td>3.8185</td>\n",
       "      <td>46503</td>\n",
       "      <td>F</td>\n",
       "      <td>1882-10-10</td>\n",
       "      <td>2186-11-28</td>\n",
       "      <td>NaT</td>\n",
       "      <td>2186-11-28</td>\n",
       "      <td>1</td>\n",
       "    </tr>\n",
       "    <tr>\n",
       "      <th>27638</th>\n",
       "      <td>99937</td>\n",
       "      <td>10</td>\n",
       "      <td>1.1816</td>\n",
       "      <td>46504</td>\n",
       "      <td>F</td>\n",
       "      <td>2062-09-06</td>\n",
       "      <td>2129-05-18</td>\n",
       "      <td>2129-05-18</td>\n",
       "      <td>NaT</td>\n",
       "      <td>1</td>\n",
       "    </tr>\n",
       "    <tr>\n",
       "      <th>27639</th>\n",
       "      <td>99944</td>\n",
       "      <td>10</td>\n",
       "      <td>4.0542</td>\n",
       "      <td>46507</td>\n",
       "      <td>F</td>\n",
       "      <td>2075-08-25</td>\n",
       "      <td>2161-04-11</td>\n",
       "      <td>NaT</td>\n",
       "      <td>2161-04-11</td>\n",
       "      <td>1</td>\n",
       "    </tr>\n",
       "    <tr>\n",
       "      <th>27640</th>\n",
       "      <td>99946</td>\n",
       "      <td>19</td>\n",
       "      <td>0.7992</td>\n",
       "      <td>46508</td>\n",
       "      <td>M</td>\n",
       "      <td>2111-11-14</td>\n",
       "      <td>NaT</td>\n",
       "      <td>NaT</td>\n",
       "      <td>NaT</td>\n",
       "      <td>0</td>\n",
       "    </tr>\n",
       "    <tr>\n",
       "      <th>27641</th>\n",
       "      <td>99955</td>\n",
       "      <td>28</td>\n",
       "      <td>5.6719</td>\n",
       "      <td>46509</td>\n",
       "      <td>M</td>\n",
       "      <td>2076-05-04</td>\n",
       "      <td>2139-07-19</td>\n",
       "      <td>2139-07-19</td>\n",
       "      <td>2139-07-19</td>\n",
       "      <td>1</td>\n",
       "    </tr>\n",
       "    <tr>\n",
       "      <th>27642</th>\n",
       "      <td>99957</td>\n",
       "      <td>8</td>\n",
       "      <td>2.8684</td>\n",
       "      <td>46510</td>\n",
       "      <td>M</td>\n",
       "      <td>2089-02-01</td>\n",
       "      <td>NaT</td>\n",
       "      <td>NaT</td>\n",
       "      <td>NaT</td>\n",
       "      <td>0</td>\n",
       "    </tr>\n",
       "    <tr>\n",
       "      <th>27643</th>\n",
       "      <td>99966</td>\n",
       "      <td>2</td>\n",
       "      <td>1.7034</td>\n",
       "      <td>46512</td>\n",
       "      <td>M</td>\n",
       "      <td>2114-02-27</td>\n",
       "      <td>NaT</td>\n",
       "      <td>NaT</td>\n",
       "      <td>NaT</td>\n",
       "      <td>0</td>\n",
       "    </tr>\n",
       "    <tr>\n",
       "      <th>27644</th>\n",
       "      <td>99973</td>\n",
       "      <td>4</td>\n",
       "      <td>2.7319</td>\n",
       "      <td>46513</td>\n",
       "      <td>F</td>\n",
       "      <td>2115-05-30</td>\n",
       "      <td>NaT</td>\n",
       "      <td>NaT</td>\n",
       "      <td>NaT</td>\n",
       "      <td>0</td>\n",
       "    </tr>\n",
       "    <tr>\n",
       "      <th>27645</th>\n",
       "      <td>99982</td>\n",
       "      <td>11</td>\n",
       "      <td>11.1128</td>\n",
       "      <td>46514</td>\n",
       "      <td>M</td>\n",
       "      <td>2091-10-02</td>\n",
       "      <td>2157-03-04</td>\n",
       "      <td>2157-03-04</td>\n",
       "      <td>2157-03-04</td>\n",
       "      <td>1</td>\n",
       "    </tr>\n",
       "    <tr>\n",
       "      <th>27646</th>\n",
       "      <td>99985</td>\n",
       "      <td>32</td>\n",
       "      <td>11.2998</td>\n",
       "      <td>46516</td>\n",
       "      <td>M</td>\n",
       "      <td>2127-04-08</td>\n",
       "      <td>NaT</td>\n",
       "      <td>NaT</td>\n",
       "      <td>NaT</td>\n",
       "      <td>0</td>\n",
       "    </tr>\n",
       "    <tr>\n",
       "      <th>27647</th>\n",
       "      <td>99991</td>\n",
       "      <td>12</td>\n",
       "      <td>3.1426</td>\n",
       "      <td>46517</td>\n",
       "      <td>M</td>\n",
       "      <td>2137-04-07</td>\n",
       "      <td>NaT</td>\n",
       "      <td>NaT</td>\n",
       "      <td>NaT</td>\n",
       "      <td>0</td>\n",
       "    </tr>\n",
       "    <tr>\n",
       "      <th>27648</th>\n",
       "      <td>99992</td>\n",
       "      <td>4</td>\n",
       "      <td>1.9745</td>\n",
       "      <td>46518</td>\n",
       "      <td>F</td>\n",
       "      <td>2078-10-17</td>\n",
       "      <td>NaT</td>\n",
       "      <td>NaT</td>\n",
       "      <td>NaT</td>\n",
       "      <td>0</td>\n",
       "    </tr>\n",
       "    <tr>\n",
       "      <th>27649</th>\n",
       "      <td>99999</td>\n",
       "      <td>14</td>\n",
       "      <td>1.1242</td>\n",
       "      <td>46520</td>\n",
       "      <td>F</td>\n",
       "      <td>2054-01-06</td>\n",
       "      <td>NaT</td>\n",
       "      <td>NaT</td>\n",
       "      <td>NaT</td>\n",
       "      <td>0</td>\n",
       "    </tr>\n",
       "  </tbody>\n",
       "</table>\n",
       "<p>27650 rows × 10 columns</p>\n",
       "</div>"
      ],
      "text/plain": [
       "       SUBJECT_ID   0      LOS  ROW_ID GENDER        DOB        DOD  \\\n",
       "0               3  17   6.0646       2      M 2025-04-11 2102-06-14   \n",
       "1               4  16   1.6785       3      F 2143-05-12        NaT   \n",
       "2               9  14   5.3231       8      M 2108-01-26 2149-11-14   \n",
       "3              11   1   1.5844      10      F 2128-02-22 2178-11-14   \n",
       "4              12  14   7.6348      11      M 2032-03-24 2104-08-20   \n",
       "5              19   1   1.3017      16      M 1808-08-05 2109-08-18   \n",
       "6              21  26  14.2664      18      M 2047-04-04 2135-02-08   \n",
       "7              22   1   1.1438      19      F 2131-05-07        NaT   \n",
       "8              23   2   1.1862      20      M 2082-07-17        NaT   \n",
       "9              25   2   3.5466      22      M 2101-11-21        NaT   \n",
       "10             26  10   2.1407      23      M 2054-05-04 2128-02-25   \n",
       "11             31  28   7.9379      27      M 2036-05-17 2108-08-30   \n",
       "12             33   8   1.5542      29      M 2034-08-02        NaT   \n",
       "13             34   1   2.3022      30      M 1886-07-18 2192-01-30   \n",
       "14             36  13   4.3483      32      M 2061-08-17        NaT   \n",
       "15             37   6   1.1397      33      M 2114-09-17 2185-01-06   \n",
       "16             38  55  25.5485      34      M 2090-08-31        NaT   \n",
       "17             41  85   3.3937      36      M 2076-05-13 2133-09-30   \n",
       "18             43   2   4.6252      38      M 2153-12-25        NaT   \n",
       "19             52  12   1.8504      45      M 2152-11-26 2192-07-11   \n",
       "20             59  19   2.2017      52      F 2110-10-12 2198-09-06   \n",
       "21             61  83   4.5682      54      M 2063-10-21 2119-02-03   \n",
       "22             62   8   2.8257      55      M 2044-05-08        NaT   \n",
       "23             64  17   2.3250      57      F 2116-06-27        NaT   \n",
       "24             65   2   3.3260      58      M 2106-01-17        NaT   \n",
       "25             67  23   1.9516      60      M 2084-06-05 2157-12-02   \n",
       "26             68  43  10.7551      61      F 2132-02-29 2174-02-11   \n",
       "27             71   2   2.8609      64      F 2127-08-03        NaT   \n",
       "28             73  15   2.6794      66      F 2113-05-22        NaT   \n",
       "29             78   8   1.4891      70      M 2128-07-01 2180-02-02   \n",
       "...           ...  ..      ...     ...    ...        ...        ...   \n",
       "27620       99865  30   2.8129   46482      F 2107-06-25 2184-12-30   \n",
       "27621       99868   2   1.3862   46483      F 2122-03-31        NaT   \n",
       "27622       99870   1   1.2625   46484      F 2123-01-29        NaT   \n",
       "27623       99872   1   1.0670   46485      F 2083-01-19        NaT   \n",
       "27624       99881   5   2.1914   46488      M 2096-04-15 2174-01-22   \n",
       "27625       99883   4   2.0309   46489      M 2058-02-04        NaT   \n",
       "27626       99893   2   2.1240   46490      M 2104-09-12 2193-12-30   \n",
       "27627       99894  17   3.7134   46491      F 2069-07-03        NaT   \n",
       "27628       99897   5   2.4439   46492      M 2128-01-18        NaT   \n",
       "27629       99899  30   9.1439   46493      M 2026-06-20 2113-06-13   \n",
       "27630       99901   4   6.1242   46494      M 2104-03-10        NaT   \n",
       "27631       99903   1   1.0388   46495      M 2095-11-27        NaT   \n",
       "27632       99912  26  12.0867   46496      M 2068-09-26 2154-08-15   \n",
       "27633       99923  10   2.9850   46499      M 2146-10-04        NaT   \n",
       "27634       99928   4   0.9902   46500      F 2161-01-02        NaT   \n",
       "27635       99934  24   3.5489   46501      M 2092-03-18        NaT   \n",
       "27636       99935   9   0.6598   46502      M 2064-05-19 2139-12-15   \n",
       "27637       99936   2   3.8185   46503      F 1882-10-10 2186-11-28   \n",
       "27638       99937  10   1.1816   46504      F 2062-09-06 2129-05-18   \n",
       "27639       99944  10   4.0542   46507      F 2075-08-25 2161-04-11   \n",
       "27640       99946  19   0.7992   46508      M 2111-11-14        NaT   \n",
       "27641       99955  28   5.6719   46509      M 2076-05-04 2139-07-19   \n",
       "27642       99957   8   2.8684   46510      M 2089-02-01        NaT   \n",
       "27643       99966   2   1.7034   46512      M 2114-02-27        NaT   \n",
       "27644       99973   4   2.7319   46513      F 2115-05-30        NaT   \n",
       "27645       99982  11  11.1128   46514      M 2091-10-02 2157-03-04   \n",
       "27646       99985  32  11.2998   46516      M 2127-04-08        NaT   \n",
       "27647       99991  12   3.1426   46517      M 2137-04-07        NaT   \n",
       "27648       99992   4   1.9745   46518      F 2078-10-17        NaT   \n",
       "27649       99999  14   1.1242   46520      F 2054-01-06        NaT   \n",
       "\n",
       "        DOD_HOSP    DOD_SSN  EXPIRE_FLAG  \n",
       "0            NaT 2102-06-14            1  \n",
       "1            NaT        NaT            0  \n",
       "2     2149-11-14 2149-11-14            1  \n",
       "3            NaT 2178-11-14            1  \n",
       "4     2104-08-20 2104-08-20            1  \n",
       "5            NaT 2109-08-18            1  \n",
       "6     2135-02-08 2135-02-08            1  \n",
       "7            NaT        NaT            0  \n",
       "8            NaT        NaT            0  \n",
       "9            NaT        NaT            0  \n",
       "10           NaT 2128-02-25            1  \n",
       "11    2108-08-30 2108-08-30            1  \n",
       "12           NaT        NaT            0  \n",
       "13           NaT 2192-01-30            1  \n",
       "14           NaT        NaT            0  \n",
       "15    2185-01-06 2185-01-06            1  \n",
       "16           NaT        NaT            0  \n",
       "17           NaT 2133-09-30            1  \n",
       "18           NaT        NaT            0  \n",
       "19           NaT 2192-07-11            1  \n",
       "20    2198-09-06 2198-09-06            1  \n",
       "21    2119-02-03 2119-02-03            1  \n",
       "22           NaT        NaT            0  \n",
       "23           NaT        NaT            0  \n",
       "24           NaT        NaT            0  \n",
       "25    2157-12-02 2157-12-02            1  \n",
       "26           NaT 2174-02-11            1  \n",
       "27           NaT        NaT            0  \n",
       "28           NaT        NaT            0  \n",
       "29           NaT 2180-02-02            1  \n",
       "...          ...        ...          ...  \n",
       "27620 2184-12-30 2184-12-30            1  \n",
       "27621        NaT        NaT            0  \n",
       "27622        NaT        NaT            0  \n",
       "27623        NaT        NaT            0  \n",
       "27624 2174-01-22 2174-01-22            1  \n",
       "27625        NaT        NaT            0  \n",
       "27626        NaT 2193-12-30            1  \n",
       "27627        NaT        NaT            0  \n",
       "27628        NaT        NaT            0  \n",
       "27629 2113-06-13        NaT            1  \n",
       "27630        NaT        NaT            0  \n",
       "27631        NaT        NaT            0  \n",
       "27632 2154-08-15        NaT            1  \n",
       "27633        NaT        NaT            0  \n",
       "27634        NaT        NaT            0  \n",
       "27635        NaT        NaT            0  \n",
       "27636 2139-12-15 2139-12-15            1  \n",
       "27637        NaT 2186-11-28            1  \n",
       "27638 2129-05-18        NaT            1  \n",
       "27639        NaT 2161-04-11            1  \n",
       "27640        NaT        NaT            0  \n",
       "27641 2139-07-19 2139-07-19            1  \n",
       "27642        NaT        NaT            0  \n",
       "27643        NaT        NaT            0  \n",
       "27644        NaT        NaT            0  \n",
       "27645 2157-03-04 2157-03-04            1  \n",
       "27646        NaT        NaT            0  \n",
       "27647        NaT        NaT            0  \n",
       "27648        NaT        NaT            0  \n",
       "27649        NaT        NaT            0  \n",
       "\n",
       "[27650 rows x 10 columns]"
      ]
     },
     "execution_count": 32,
     "metadata": {},
     "output_type": "execute_result"
    }
   ],
   "source": [
    "all_micro = all_stay_patients_micro_merge.groupby('SUBJECT_ID').size().reset_index()\n",
    "all_micro_los = all_micro.merge(subject_los_death_stats_merged,left_on='SUBJECT_ID',right_on='SUBJECT_ID', how='inner')\n",
    "all_micro_los"
   ]
  },
  {
   "cell_type": "code",
   "execution_count": 33,
   "metadata": {
    "collapsed": false
   },
   "outputs": [],
   "source": [
    "all_micro_los.columns.values[1] = 'NUMBER_OF_EVENTS'\n"
   ]
  },
  {
   "cell_type": "code",
   "execution_count": 34,
   "metadata": {
    "collapsed": false
   },
   "outputs": [],
   "source": [
    "all_micro_los.columns= ['SUBJECT_ID', 'NUMBER_OF_EVENTS', 'LOS', 'ROW_ID', 'GENDER', 'DOB',\n",
    "       'DOD', 'DOD_HOSP', 'DOD_SSN', 'EXPIRE_FLAG']"
   ]
  },
  {
   "cell_type": "code",
   "execution_count": 35,
   "metadata": {
    "collapsed": false
   },
   "outputs": [
    {
     "data": {
      "text/plain": [
       "(0, 30)"
      ]
     },
     "execution_count": 35,
     "metadata": {},
     "output_type": "execute_result"
    },
    {
     "data": {
      "image/png": "[encoded data removed]",
      "text/plain": [
       "<matplotlib.figure.Figure at 0x11f5d69e8>"
      ]
     },
     "metadata": {},
     "output_type": "display_data"
    }
   ],
   "source": [
    "all_micro_los.plot.scatter('LOS','NUMBER_OF_EVENTS',c='red',alpha=0.1,s=5,marker='+')\n",
    "plt.ylim([0,100])\n",
    "plt.xlim([0,30])\n"
   ]
  },
  {
   "cell_type": "code",
   "execution_count": 36,
   "metadata": {
    "collapsed": false
   },
   "outputs": [],
   "source": [
    "all_micro_los_subset = all_micro_los[(all_micro_los.LOS<20) & (all_micro_los.NUMBER_OF_EVENTS<30)]"
   ]
  },
  {
   "cell_type": "code",
   "execution_count": 37,
   "metadata": {
    "collapsed": false
   },
   "outputs": [
    {
     "data": {
      "image/png": "[encoded data removed]",
      "text/plain": [
       "<matplotlib.figure.Figure at 0x1222dfa20>"
      ]
     },
     "metadata": {},
     "output_type": "display_data"
    }
   ],
   "source": [
    "plt.hist2d(all_micro_los_subset.LOS, all_micro_los_subset.NUMBER_OF_EVENTS, bins=[20,5], cmap='gist_rainbow',norm = LogNorm())\n",
    "cb = plt.colorbar()\n",
    "cb.set_label('counts in bin')\n",
    "plt.xlabel('Length of stay in ICU')\n",
    "plt.ylabel('Number of microbiology events')\n",
    "plt.title('Number density of microbiology events against LOS')\n",
    "plt.savefig(\"micro_lab_events_LOS_heatmap.pdf\", bbox_inches = 'tight',\n",
    "    pad_inches = 0.1)\n"
   ]
  },
  {
   "cell_type": "code",
   "execution_count": null,
   "metadata": {
    "collapsed": true
   },
   "outputs": [],
   "source": []
  }
 ],
 "metadata": {
  "kernelspec": {
   "display_name": "Python 3",
   "language": "python",
   "name": "python3"
  },
  "language_info": {
   "codemirror_mode": {
    "name": "ipython",
    "version": 3
   },
   "file_extension": ".py",
   "mimetype": "text/x-python",
   "name": "python",
   "nbconvert_exporter": "python",
   "pygments_lexer": "ipython3",
   "version": "3.4.4"
  }
 },
 "nbformat": 4,
 "nbformat_minor": 0
}
